{
  "nbformat": 4,
  "nbformat_minor": 0,
  "metadata": {
    "colab": {
      "provenance": [],
      "authorship_tag": "ABX9TyOfsEdS0nstIP1s2HrEEVMY",
      "include_colab_link": true
    },
    "kernelspec": {
      "name": "python3",
      "display_name": "Python 3"
    },
    "language_info": {
      "name": "python"
    }
  },
  "cells": [
    {
      "cell_type": "markdown",
      "metadata": {
        "id": "view-in-github",
        "colab_type": "text"
      },
      "source": [
        "<a href=\"https://colab.research.google.com/github/GursimranKaur12/Google-Play-Store-Analytics.ipynb/blob/main/Analysis2.ipynb\" target=\"_parent\"><img src=\"https://colab.research.google.com/assets/colab-badge.svg\" alt=\"Open In Colab\"/></a>"
      ]
    },
    {
      "cell_type": "code",
      "source": [
        "import pandas as pd\n",
        "import numpy as np\n",
        "import plotly.express as px\n",
        "import plotly.io as pio\n",
        "from sklearn.model_selection import train_test_split\n",
        "from sklearn.ensemble import RandomForestRegressor\n",
        "from sklearn.metrics import mean_squared_error, r2_score\n",
        "from nltk.sentiment.vader import SentimentIntensityAnalyzer\n",
        "import nltk\n",
        "import webbrowser\n",
        "import os"
      ],
      "metadata": {
        "id": "nlfdUbsXcPKz"
      },
      "execution_count": 3,
      "outputs": []
    },
    {
      "cell_type": "code",
      "source": [
        "apps_df =pd.read_csv('Play Store Data.csv')\n",
        "reviews_df = pd.read_csv('User Reviews.csv')"
      ],
      "metadata": {
        "id": "e2hGZSC-cpuk"
      },
      "execution_count": 5,
      "outputs": []
    },
    {
      "cell_type": "code",
      "source": [
        "apps_df = apps_df.dropna(subset=['Rating'])\n",
        "for column in apps_df.columns:\n",
        "  apps_df[column].fillna(apps_df[column].mode()[0], inplace=True)\n",
        "  apps_df.drop_duplicates(inplace=True<=5)\n",
        "  apps_df = apps_df[apps_df['Rating'] <=5]\n",
        "  reviews_df.dropna(subset=['Translated_Review'], inplace=True)\n",
        ""
      ],
      "metadata": {
        "colab": {
          "base_uri": "https://localhost:8080/"
        },
        "id": "0TLT7Jj2dMJ5",
        "outputId": "16ea9f3d-e4f5-4abd-a029-d77aeb734292"
      },
      "execution_count": 6,
      "outputs": [
        {
          "output_type": "stream",
          "name": "stderr",
          "text": [
            "<ipython-input-6-f5ab57f29686>:3: FutureWarning: A value is trying to be set on a copy of a DataFrame or Series through chained assignment using an inplace method.\n",
            "The behavior will change in pandas 3.0. This inplace method will never work because the intermediate object on which we are setting values always behaves as a copy.\n",
            "\n",
            "For example, when doing 'df[col].method(value, inplace=True)', try using 'df.method({col: value}, inplace=True)' or df[col] = df[col].method(value) instead, to perform the operation inplace on the original object.\n",
            "\n",
            "\n",
            "  apps_df[column].fillna(apps_df[column].mode()[0], inplace=True)\n",
            "<ipython-input-6-f5ab57f29686>:3: SettingWithCopyWarning: \n",
            "A value is trying to be set on a copy of a slice from a DataFrame\n",
            "\n",
            "See the caveats in the documentation: https://pandas.pydata.org/pandas-docs/stable/user_guide/indexing.html#returning-a-view-versus-a-copy\n",
            "  apps_df[column].fillna(apps_df[column].mode()[0], inplace=True)\n",
            "<ipython-input-6-f5ab57f29686>:4: SettingWithCopyWarning: \n",
            "A value is trying to be set on a copy of a slice from a DataFrame\n",
            "\n",
            "See the caveats in the documentation: https://pandas.pydata.org/pandas-docs/stable/user_guide/indexing.html#returning-a-view-versus-a-copy\n",
            "  apps_df.drop_duplicates(inplace=True<=5)\n",
            "<ipython-input-6-f5ab57f29686>:3: FutureWarning: A value is trying to be set on a copy of a DataFrame or Series through chained assignment using an inplace method.\n",
            "The behavior will change in pandas 3.0. This inplace method will never work because the intermediate object on which we are setting values always behaves as a copy.\n",
            "\n",
            "For example, when doing 'df[col].method(value, inplace=True)', try using 'df.method({col: value}, inplace=True)' or df[col] = df[col].method(value) instead, to perform the operation inplace on the original object.\n",
            "\n",
            "\n",
            "  apps_df[column].fillna(apps_df[column].mode()[0], inplace=True)\n",
            "<ipython-input-6-f5ab57f29686>:3: FutureWarning: A value is trying to be set on a copy of a DataFrame or Series through chained assignment using an inplace method.\n",
            "The behavior will change in pandas 3.0. This inplace method will never work because the intermediate object on which we are setting values always behaves as a copy.\n",
            "\n",
            "For example, when doing 'df[col].method(value, inplace=True)', try using 'df.method({col: value}, inplace=True)' or df[col] = df[col].method(value) instead, to perform the operation inplace on the original object.\n",
            "\n",
            "\n",
            "  apps_df[column].fillna(apps_df[column].mode()[0], inplace=True)\n",
            "<ipython-input-6-f5ab57f29686>:3: FutureWarning: A value is trying to be set on a copy of a DataFrame or Series through chained assignment using an inplace method.\n",
            "The behavior will change in pandas 3.0. This inplace method will never work because the intermediate object on which we are setting values always behaves as a copy.\n",
            "\n",
            "For example, when doing 'df[col].method(value, inplace=True)', try using 'df.method({col: value}, inplace=True)' or df[col] = df[col].method(value) instead, to perform the operation inplace on the original object.\n",
            "\n",
            "\n",
            "  apps_df[column].fillna(apps_df[column].mode()[0], inplace=True)\n",
            "<ipython-input-6-f5ab57f29686>:3: FutureWarning: A value is trying to be set on a copy of a DataFrame or Series through chained assignment using an inplace method.\n",
            "The behavior will change in pandas 3.0. This inplace method will never work because the intermediate object on which we are setting values always behaves as a copy.\n",
            "\n",
            "For example, when doing 'df[col].method(value, inplace=True)', try using 'df.method({col: value}, inplace=True)' or df[col] = df[col].method(value) instead, to perform the operation inplace on the original object.\n",
            "\n",
            "\n",
            "  apps_df[column].fillna(apps_df[column].mode()[0], inplace=True)\n",
            "<ipython-input-6-f5ab57f29686>:3: FutureWarning: A value is trying to be set on a copy of a DataFrame or Series through chained assignment using an inplace method.\n",
            "The behavior will change in pandas 3.0. This inplace method will never work because the intermediate object on which we are setting values always behaves as a copy.\n",
            "\n",
            "For example, when doing 'df[col].method(value, inplace=True)', try using 'df.method({col: value}, inplace=True)' or df[col] = df[col].method(value) instead, to perform the operation inplace on the original object.\n",
            "\n",
            "\n",
            "  apps_df[column].fillna(apps_df[column].mode()[0], inplace=True)\n",
            "<ipython-input-6-f5ab57f29686>:3: FutureWarning: A value is trying to be set on a copy of a DataFrame or Series through chained assignment using an inplace method.\n",
            "The behavior will change in pandas 3.0. This inplace method will never work because the intermediate object on which we are setting values always behaves as a copy.\n",
            "\n",
            "For example, when doing 'df[col].method(value, inplace=True)', try using 'df.method({col: value}, inplace=True)' or df[col] = df[col].method(value) instead, to perform the operation inplace on the original object.\n",
            "\n",
            "\n",
            "  apps_df[column].fillna(apps_df[column].mode()[0], inplace=True)\n",
            "<ipython-input-6-f5ab57f29686>:3: FutureWarning: A value is trying to be set on a copy of a DataFrame or Series through chained assignment using an inplace method.\n",
            "The behavior will change in pandas 3.0. This inplace method will never work because the intermediate object on which we are setting values always behaves as a copy.\n",
            "\n",
            "For example, when doing 'df[col].method(value, inplace=True)', try using 'df.method({col: value}, inplace=True)' or df[col] = df[col].method(value) instead, to perform the operation inplace on the original object.\n",
            "\n",
            "\n",
            "  apps_df[column].fillna(apps_df[column].mode()[0], inplace=True)\n",
            "<ipython-input-6-f5ab57f29686>:3: FutureWarning: A value is trying to be set on a copy of a DataFrame or Series through chained assignment using an inplace method.\n",
            "The behavior will change in pandas 3.0. This inplace method will never work because the intermediate object on which we are setting values always behaves as a copy.\n",
            "\n",
            "For example, when doing 'df[col].method(value, inplace=True)', try using 'df.method({col: value}, inplace=True)' or df[col] = df[col].method(value) instead, to perform the operation inplace on the original object.\n",
            "\n",
            "\n",
            "  apps_df[column].fillna(apps_df[column].mode()[0], inplace=True)\n",
            "<ipython-input-6-f5ab57f29686>:3: FutureWarning: A value is trying to be set on a copy of a DataFrame or Series through chained assignment using an inplace method.\n",
            "The behavior will change in pandas 3.0. This inplace method will never work because the intermediate object on which we are setting values always behaves as a copy.\n",
            "\n",
            "For example, when doing 'df[col].method(value, inplace=True)', try using 'df.method({col: value}, inplace=True)' or df[col] = df[col].method(value) instead, to perform the operation inplace on the original object.\n",
            "\n",
            "\n",
            "  apps_df[column].fillna(apps_df[column].mode()[0], inplace=True)\n",
            "<ipython-input-6-f5ab57f29686>:3: FutureWarning: A value is trying to be set on a copy of a DataFrame or Series through chained assignment using an inplace method.\n",
            "The behavior will change in pandas 3.0. This inplace method will never work because the intermediate object on which we are setting values always behaves as a copy.\n",
            "\n",
            "For example, when doing 'df[col].method(value, inplace=True)', try using 'df.method({col: value}, inplace=True)' or df[col] = df[col].method(value) instead, to perform the operation inplace on the original object.\n",
            "\n",
            "\n",
            "  apps_df[column].fillna(apps_df[column].mode()[0], inplace=True)\n",
            "<ipython-input-6-f5ab57f29686>:3: FutureWarning: A value is trying to be set on a copy of a DataFrame or Series through chained assignment using an inplace method.\n",
            "The behavior will change in pandas 3.0. This inplace method will never work because the intermediate object on which we are setting values always behaves as a copy.\n",
            "\n",
            "For example, when doing 'df[col].method(value, inplace=True)', try using 'df.method({col: value}, inplace=True)' or df[col] = df[col].method(value) instead, to perform the operation inplace on the original object.\n",
            "\n",
            "\n",
            "  apps_df[column].fillna(apps_df[column].mode()[0], inplace=True)\n",
            "<ipython-input-6-f5ab57f29686>:3: FutureWarning: A value is trying to be set on a copy of a DataFrame or Series through chained assignment using an inplace method.\n",
            "The behavior will change in pandas 3.0. This inplace method will never work because the intermediate object on which we are setting values always behaves as a copy.\n",
            "\n",
            "For example, when doing 'df[col].method(value, inplace=True)', try using 'df.method({col: value}, inplace=True)' or df[col] = df[col].method(value) instead, to perform the operation inplace on the original object.\n",
            "\n",
            "\n",
            "  apps_df[column].fillna(apps_df[column].mode()[0], inplace=True)\n"
          ]
        }
      ]
    },
    {
      "cell_type": "code",
      "source": [
        "merged_df = pd.merge(apps_df, reviews_df, on='App', how='inner')"
      ],
      "metadata": {
        "id": "bKe8KDvIeLTT"
      },
      "execution_count": 7,
      "outputs": []
    },
    {
      "cell_type": "code",
      "source": [
        "apps_df['Reviews'] = apps_df['Reviews'].astype(int)\n",
        "apps_df['Installs'] = apps_df['Installs'].str.replace(',' , '').str.replace('+', '').astype(int)\n",
        "apps_df['Price'] = apps_df['Price'].str.replace('$','').astype(float)"
      ],
      "metadata": {
        "id": "KB4v1v66eYEy"
      },
      "execution_count": 8,
      "outputs": []
    },
    {
      "cell_type": "code",
      "source": [
        "def convert_size(size):\n",
        "  if 'M' in size:\n",
        "    return float(size.replace('M', ''))\n",
        "  elif 'k' in size:\n",
        "    return float(size.replace('k', ''))/1024\n",
        "  else:\n",
        "    return np.nan"
      ],
      "metadata": {
        "id": "9HVc0nxte-Jj"
      },
      "execution_count": 9,
      "outputs": []
    },
    {
      "cell_type": "code",
      "source": [
        "apps_df['Size'] = apps_df['Size'].apply(convert_size)"
      ],
      "metadata": {
        "id": "jlX1qAgUfWEA"
      },
      "execution_count": 10,
      "outputs": []
    },
    {
      "cell_type": "code",
      "source": [
        "apps_df['Log_Installs'] = np.log1p(apps_df['Installs'])\n",
        "apps_df['Log_Reviews'] = np.log1p(apps_df['Reviews'])"
      ],
      "metadata": {
        "id": "TtYpx5PHfegJ"
      },
      "execution_count": 11,
      "outputs": []
    },
    {
      "cell_type": "code",
      "source": [
        "def rating_group(rating):\n",
        "  if rating >= 4:\n",
        "    return \"Top rated\"\n",
        "  elif rating >= 3:\n",
        "    return \"Above average\"\n",
        "  elif rating >= 2:\n",
        "    return \"Average\"\n",
        "  else:\n",
        "    return \"Below Average\"\n",
        "\n",
        "  apps_df['Ratig_Group'] = apps_df['Rating'].apply(rating_group)\n",
        ""
      ],
      "metadata": {
        "id": "pyeLKoTifxPA"
      },
      "execution_count": 12,
      "outputs": []
    },
    {
      "cell_type": "code",
      "source": [
        "apps_df['Revenue'] =apps_df['Price'] * apps_df['Installs']\n"
      ],
      "metadata": {
        "id": "XzGLchkXgORi"
      },
      "execution_count": 13,
      "outputs": []
    },
    {
      "cell_type": "code",
      "source": [
        "nltk.download('vader_lexicon')"
      ],
      "metadata": {
        "colab": {
          "base_uri": "https://localhost:8080/"
        },
        "id": "pc0bKM3Ygum3",
        "outputId": "47e7236d-092b-4649-8f01-347a6f55df84"
      },
      "execution_count": 15,
      "outputs": [
        {
          "output_type": "stream",
          "name": "stderr",
          "text": [
            "[nltk_data] Downloading package vader_lexicon to /root/nltk_data...\n"
          ]
        },
        {
          "output_type": "execute_result",
          "data": {
            "text/plain": [
              "True"
            ]
          },
          "metadata": {},
          "execution_count": 15
        }
      ]
    },
    {
      "cell_type": "code",
      "source": [
        "sia = SentimentIntensityAnalyzer()\n",
        "reviews_df['Sentiment_Score'] = reviews_df['Translated_Review'].apply(lambda x: sia.polarity_scores(x)['compound'])"
      ],
      "metadata": {
        "id": "BAG_gAU4gWuw"
      },
      "execution_count": 16,
      "outputs": []
    },
    {
      "cell_type": "code",
      "source": [
        "apps_df['Lat Updated'] = pd.to_datetime(apps_df['Last Updated'],errors='coerce')\n",
        "apps_df['Year'] = apps_df['Lat Updated'].dt.year"
      ],
      "metadata": {
        "id": "deIZ3ZtZgkXr"
      },
      "execution_count": 17,
      "outputs": []
    },
    {
      "cell_type": "code",
      "source": [
        "import plotly.express as px\n",
        "\n",
        "html_files_path = \"./\"\n",
        "\n",
        "\n",
        "if not os.path.exists(html_files_path):\n",
        "    os.makedirs(html_files_path)\n",
        "import plotly.express as px\n",
        "\n",
        "html_files_path = \"./\"\n",
        "if not os.path.exists(html_files_path):\n",
        "    os.makedirs(html_files_path)\n",
        "plot_containers = \"\""
      ],
      "metadata": {
        "id": "oe8gsER4hBxD"
      },
      "execution_count": 20,
      "outputs": []
    },
    {
      "cell_type": "code",
      "source": [
        "def save_plot_as_html(fig, filename, insight):\n",
        "    global plot_containers\n",
        "    filepath = os.path.join(html_files_path, filename)\n",
        "    html_content = pio.to_html(fig, full_html=False, include_plotlyjs='inline')\n",
        "\n",
        "    plot_containers += f\"\"\"\n",
        "    <div class=\"plot-container\" id=\"{filename}\" onclick=\"openPlot('{filename}')\">\n",
        "        <div class=\"plot\">{html_content}</div>\n",
        "        <div class=\"insights\">{insight}</div>\n",
        "    </div>\n",
        "    \"\"\"\n",
        "    fig.write_html(filepath, full_html=False, include_plotlyjs='inline')"
      ],
      "metadata": {
        "id": "8BW-Pco_hUoY"
      },
      "execution_count": 21,
      "outputs": []
    },
    {
      "cell_type": "code",
      "source": [
        "plot_width = 400\n",
        "plot_height = 300\n",
        "plot_bg_color = 'black'\n",
        "plot_width = 400\n",
        "plot_height = 300\n",
        "plot_bg_color = 'black'\n",
        "text_color = 'white'\n",
        "title_font = {'size': 16}\n",
        "axis_font = {'size': 12}"
      ],
      "metadata": {
        "id": "da-_u2BxhrVx"
      },
      "execution_count": 23,
      "outputs": []
    },
    {
      "cell_type": "code",
      "source": [
        "category_counts = apps_df['Category'].value_counts().nlargest(10)\n",
        "fig1 = px.bar(\n",
        "    x=category_counts.index,\n",
        "    y=category_counts.values,\n",
        "    labels={'x': 'Category', 'y': 'Count'},\n",
        "    title='Top Categories on Play Store',\n",
        "    color=category_counts.index,\n",
        "    color_discrete_sequence=px.colors.sequential.Plasma,\n",
        "    width=plot_width,\n",
        "    height=plot_height\n",
        ")\n",
        "fig1.update_layout(\n",
        "    plot_bgcolor=plot_bg_color,\n",
        "    paper_bgcolor=plot_bg_color,\n",
        "    font_color=text_color,\n",
        "    title_font=title_font,\n",
        "    xaxis=dict(title_font=axis_font),\n",
        "    yaxis=dict(title_font=axis_font),\n",
        "    margin=dict(l=10, r=10, t=30, b=10)\n",
        ")\n",
        "fig1.update_traces(marker=dict(line=dict(color=text_color, width=1)))\n"
      ],
      "metadata": {
        "colab": {
          "base_uri": "https://localhost:8080/",
          "height": 317
        },
        "id": "45NKpPlxh2Px",
        "outputId": "25a612f1-4c14-4c50-d1b8-b014901c3c4f"
      },
      "execution_count": 24,
      "outputs": [
        {
          "output_type": "display_data",
          "data": {
            "text/html": [
              "<html>\n",
              "<head><meta charset=\"utf-8\" /></head>\n",
              "<body>\n",
              "    <div>            <script src=\"https://cdnjs.cloudflare.com/ajax/libs/mathjax/2.7.5/MathJax.js?config=TeX-AMS-MML_SVG\"></script><script type=\"text/javascript\">if (window.MathJax && window.MathJax.Hub && window.MathJax.Hub.Config) {window.MathJax.Hub.Config({SVG: {font: \"STIX-Web\"}});}</script>                <script type=\"text/javascript\">window.PlotlyConfig = {MathJaxConfig: 'local'};</script>\n",
              "        <script charset=\"utf-8\" src=\"https://cdn.plot.ly/plotly-2.35.2.min.js\"></script>                <div id=\"c3413497-8118-44f5-8d4a-29f5f5095a4f\" class=\"plotly-graph-div\" style=\"height:300px; width:400px;\"></div>            <script type=\"text/javascript\">                                    window.PLOTLYENV=window.PLOTLYENV || {};                                    if (document.getElementById(\"c3413497-8118-44f5-8d4a-29f5f5095a4f\")) {                    Plotly.newPlot(                        \"c3413497-8118-44f5-8d4a-29f5f5095a4f\",                        [{\"alignmentgroup\":\"True\",\"hovertemplate\":\"color=FAMILY\\u003cbr\\u003eCategory=%{x}\\u003cbr\\u003eCount=%{y}\\u003cextra\\u003e\\u003c\\u002fextra\\u003e\",\"legendgroup\":\"FAMILY\",\"marker\":{\"color\":\"#0d0887\",\"pattern\":{\"shape\":\"\"},\"line\":{\"color\":\"white\",\"width\":1}},\"name\":\"FAMILY\",\"offsetgroup\":\"FAMILY\",\"orientation\":\"v\",\"showlegend\":true,\"textposition\":\"auto\",\"x\":[\"FAMILY\"],\"xaxis\":\"x\",\"y\":[1718],\"yaxis\":\"y\",\"type\":\"bar\"},{\"alignmentgroup\":\"True\",\"hovertemplate\":\"color=GAME\\u003cbr\\u003eCategory=%{x}\\u003cbr\\u003eCount=%{y}\\u003cextra\\u003e\\u003c\\u002fextra\\u003e\",\"legendgroup\":\"GAME\",\"marker\":{\"color\":\"#46039f\",\"pattern\":{\"shape\":\"\"},\"line\":{\"color\":\"white\",\"width\":1}},\"name\":\"GAME\",\"offsetgroup\":\"GAME\",\"orientation\":\"v\",\"showlegend\":true,\"textposition\":\"auto\",\"x\":[\"GAME\"],\"xaxis\":\"x\",\"y\":[1074],\"yaxis\":\"y\",\"type\":\"bar\"},{\"alignmentgroup\":\"True\",\"hovertemplate\":\"color=TOOLS\\u003cbr\\u003eCategory=%{x}\\u003cbr\\u003eCount=%{y}\\u003cextra\\u003e\\u003c\\u002fextra\\u003e\",\"legendgroup\":\"TOOLS\",\"marker\":{\"color\":\"#7201a8\",\"pattern\":{\"shape\":\"\"},\"line\":{\"color\":\"white\",\"width\":1}},\"name\":\"TOOLS\",\"offsetgroup\":\"TOOLS\",\"orientation\":\"v\",\"showlegend\":true,\"textposition\":\"auto\",\"x\":[\"TOOLS\"],\"xaxis\":\"x\",\"y\":[734],\"yaxis\":\"y\",\"type\":\"bar\"},{\"alignmentgroup\":\"True\",\"hovertemplate\":\"color=PRODUCTIVITY\\u003cbr\\u003eCategory=%{x}\\u003cbr\\u003eCount=%{y}\\u003cextra\\u003e\\u003c\\u002fextra\\u003e\",\"legendgroup\":\"PRODUCTIVITY\",\"marker\":{\"color\":\"#9c179e\",\"pattern\":{\"shape\":\"\"},\"line\":{\"color\":\"white\",\"width\":1}},\"name\":\"PRODUCTIVITY\",\"offsetgroup\":\"PRODUCTIVITY\",\"orientation\":\"v\",\"showlegend\":true,\"textposition\":\"auto\",\"x\":[\"PRODUCTIVITY\"],\"xaxis\":\"x\",\"y\":[334],\"yaxis\":\"y\",\"type\":\"bar\"},{\"alignmentgroup\":\"True\",\"hovertemplate\":\"color=FINANCE\\u003cbr\\u003eCategory=%{x}\\u003cbr\\u003eCount=%{y}\\u003cextra\\u003e\\u003c\\u002fextra\\u003e\",\"legendgroup\":\"FINANCE\",\"marker\":{\"color\":\"#bd3786\",\"pattern\":{\"shape\":\"\"},\"line\":{\"color\":\"white\",\"width\":1}},\"name\":\"FINANCE\",\"offsetgroup\":\"FINANCE\",\"orientation\":\"v\",\"showlegend\":true,\"textposition\":\"auto\",\"x\":[\"FINANCE\"],\"xaxis\":\"x\",\"y\":[317],\"yaxis\":\"y\",\"type\":\"bar\"},{\"alignmentgroup\":\"True\",\"hovertemplate\":\"color=PERSONALIZATION\\u003cbr\\u003eCategory=%{x}\\u003cbr\\u003eCount=%{y}\\u003cextra\\u003e\\u003c\\u002fextra\\u003e\",\"legendgroup\":\"PERSONALIZATION\",\"marker\":{\"color\":\"#d8576b\",\"pattern\":{\"shape\":\"\"},\"line\":{\"color\":\"white\",\"width\":1}},\"name\":\"PERSONALIZATION\",\"offsetgroup\":\"PERSONALIZATION\",\"orientation\":\"v\",\"showlegend\":true,\"textposition\":\"auto\",\"x\":[\"PERSONALIZATION\"],\"xaxis\":\"x\",\"y\":[310],\"yaxis\":\"y\",\"type\":\"bar\"},{\"alignmentgroup\":\"True\",\"hovertemplate\":\"color=COMMUNICATION\\u003cbr\\u003eCategory=%{x}\\u003cbr\\u003eCount=%{y}\\u003cextra\\u003e\\u003c\\u002fextra\\u003e\",\"legendgroup\":\"COMMUNICATION\",\"marker\":{\"color\":\"#ed7953\",\"pattern\":{\"shape\":\"\"},\"line\":{\"color\":\"white\",\"width\":1}},\"name\":\"COMMUNICATION\",\"offsetgroup\":\"COMMUNICATION\",\"orientation\":\"v\",\"showlegend\":true,\"textposition\":\"auto\",\"x\":[\"COMMUNICATION\"],\"xaxis\":\"x\",\"y\":[307],\"yaxis\":\"y\",\"type\":\"bar\"},{\"alignmentgroup\":\"True\",\"hovertemplate\":\"color=LIFESTYLE\\u003cbr\\u003eCategory=%{x}\\u003cbr\\u003eCount=%{y}\\u003cextra\\u003e\\u003c\\u002fextra\\u003e\",\"legendgroup\":\"LIFESTYLE\",\"marker\":{\"color\":\"#fb9f3a\",\"pattern\":{\"shape\":\"\"},\"line\":{\"color\":\"white\",\"width\":1}},\"name\":\"LIFESTYLE\",\"offsetgroup\":\"LIFESTYLE\",\"orientation\":\"v\",\"showlegend\":true,\"textposition\":\"auto\",\"x\":[\"LIFESTYLE\"],\"xaxis\":\"x\",\"y\":[305],\"yaxis\":\"y\",\"type\":\"bar\"},{\"alignmentgroup\":\"True\",\"hovertemplate\":\"color=PHOTOGRAPHY\\u003cbr\\u003eCategory=%{x}\\u003cbr\\u003eCount=%{y}\\u003cextra\\u003e\\u003c\\u002fextra\\u003e\",\"legendgroup\":\"PHOTOGRAPHY\",\"marker\":{\"color\":\"#fdca26\",\"pattern\":{\"shape\":\"\"},\"line\":{\"color\":\"white\",\"width\":1}},\"name\":\"PHOTOGRAPHY\",\"offsetgroup\":\"PHOTOGRAPHY\",\"orientation\":\"v\",\"showlegend\":true,\"textposition\":\"auto\",\"x\":[\"PHOTOGRAPHY\"],\"xaxis\":\"x\",\"y\":[304],\"yaxis\":\"y\",\"type\":\"bar\"},{\"alignmentgroup\":\"True\",\"hovertemplate\":\"color=MEDICAL\\u003cbr\\u003eCategory=%{x}\\u003cbr\\u003eCount=%{y}\\u003cextra\\u003e\\u003c\\u002fextra\\u003e\",\"legendgroup\":\"MEDICAL\",\"marker\":{\"color\":\"#f0f921\",\"pattern\":{\"shape\":\"\"},\"line\":{\"color\":\"white\",\"width\":1}},\"name\":\"MEDICAL\",\"offsetgroup\":\"MEDICAL\",\"orientation\":\"v\",\"showlegend\":true,\"textposition\":\"auto\",\"x\":[\"MEDICAL\"],\"xaxis\":\"x\",\"y\":[302],\"yaxis\":\"y\",\"type\":\"bar\"}],                        {\"template\":{\"data\":{\"histogram2dcontour\":[{\"type\":\"histogram2dcontour\",\"colorbar\":{\"outlinewidth\":0,\"ticks\":\"\"},\"colorscale\":[[0.0,\"#0d0887\"],[0.1111111111111111,\"#46039f\"],[0.2222222222222222,\"#7201a8\"],[0.3333333333333333,\"#9c179e\"],[0.4444444444444444,\"#bd3786\"],[0.5555555555555556,\"#d8576b\"],[0.6666666666666666,\"#ed7953\"],[0.7777777777777778,\"#fb9f3a\"],[0.8888888888888888,\"#fdca26\"],[1.0,\"#f0f921\"]]}],\"choropleth\":[{\"type\":\"choropleth\",\"colorbar\":{\"outlinewidth\":0,\"ticks\":\"\"}}],\"histogram2d\":[{\"type\":\"histogram2d\",\"colorbar\":{\"outlinewidth\":0,\"ticks\":\"\"},\"colorscale\":[[0.0,\"#0d0887\"],[0.1111111111111111,\"#46039f\"],[0.2222222222222222,\"#7201a8\"],[0.3333333333333333,\"#9c179e\"],[0.4444444444444444,\"#bd3786\"],[0.5555555555555556,\"#d8576b\"],[0.6666666666666666,\"#ed7953\"],[0.7777777777777778,\"#fb9f3a\"],[0.8888888888888888,\"#fdca26\"],[1.0,\"#f0f921\"]]}],\"heatmap\":[{\"type\":\"heatmap\",\"colorbar\":{\"outlinewidth\":0,\"ticks\":\"\"},\"colorscale\":[[0.0,\"#0d0887\"],[0.1111111111111111,\"#46039f\"],[0.2222222222222222,\"#7201a8\"],[0.3333333333333333,\"#9c179e\"],[0.4444444444444444,\"#bd3786\"],[0.5555555555555556,\"#d8576b\"],[0.6666666666666666,\"#ed7953\"],[0.7777777777777778,\"#fb9f3a\"],[0.8888888888888888,\"#fdca26\"],[1.0,\"#f0f921\"]]}],\"heatmapgl\":[{\"type\":\"heatmapgl\",\"colorbar\":{\"outlinewidth\":0,\"ticks\":\"\"},\"colorscale\":[[0.0,\"#0d0887\"],[0.1111111111111111,\"#46039f\"],[0.2222222222222222,\"#7201a8\"],[0.3333333333333333,\"#9c179e\"],[0.4444444444444444,\"#bd3786\"],[0.5555555555555556,\"#d8576b\"],[0.6666666666666666,\"#ed7953\"],[0.7777777777777778,\"#fb9f3a\"],[0.8888888888888888,\"#fdca26\"],[1.0,\"#f0f921\"]]}],\"contourcarpet\":[{\"type\":\"contourcarpet\",\"colorbar\":{\"outlinewidth\":0,\"ticks\":\"\"}}],\"contour\":[{\"type\":\"contour\",\"colorbar\":{\"outlinewidth\":0,\"ticks\":\"\"},\"colorscale\":[[0.0,\"#0d0887\"],[0.1111111111111111,\"#46039f\"],[0.2222222222222222,\"#7201a8\"],[0.3333333333333333,\"#9c179e\"],[0.4444444444444444,\"#bd3786\"],[0.5555555555555556,\"#d8576b\"],[0.6666666666666666,\"#ed7953\"],[0.7777777777777778,\"#fb9f3a\"],[0.8888888888888888,\"#fdca26\"],[1.0,\"#f0f921\"]]}],\"surface\":[{\"type\":\"surface\",\"colorbar\":{\"outlinewidth\":0,\"ticks\":\"\"},\"colorscale\":[[0.0,\"#0d0887\"],[0.1111111111111111,\"#46039f\"],[0.2222222222222222,\"#7201a8\"],[0.3333333333333333,\"#9c179e\"],[0.4444444444444444,\"#bd3786\"],[0.5555555555555556,\"#d8576b\"],[0.6666666666666666,\"#ed7953\"],[0.7777777777777778,\"#fb9f3a\"],[0.8888888888888888,\"#fdca26\"],[1.0,\"#f0f921\"]]}],\"mesh3d\":[{\"type\":\"mesh3d\",\"colorbar\":{\"outlinewidth\":0,\"ticks\":\"\"}}],\"scatter\":[{\"fillpattern\":{\"fillmode\":\"overlay\",\"size\":10,\"solidity\":0.2},\"type\":\"scatter\"}],\"parcoords\":[{\"type\":\"parcoords\",\"line\":{\"colorbar\":{\"outlinewidth\":0,\"ticks\":\"\"}}}],\"scatterpolargl\":[{\"type\":\"scatterpolargl\",\"marker\":{\"colorbar\":{\"outlinewidth\":0,\"ticks\":\"\"}}}],\"bar\":[{\"error_x\":{\"color\":\"#2a3f5f\"},\"error_y\":{\"color\":\"#2a3f5f\"},\"marker\":{\"line\":{\"color\":\"#E5ECF6\",\"width\":0.5},\"pattern\":{\"fillmode\":\"overlay\",\"size\":10,\"solidity\":0.2}},\"type\":\"bar\"}],\"scattergeo\":[{\"type\":\"scattergeo\",\"marker\":{\"colorbar\":{\"outlinewidth\":0,\"ticks\":\"\"}}}],\"scatterpolar\":[{\"type\":\"scatterpolar\",\"marker\":{\"colorbar\":{\"outlinewidth\":0,\"ticks\":\"\"}}}],\"histogram\":[{\"marker\":{\"pattern\":{\"fillmode\":\"overlay\",\"size\":10,\"solidity\":0.2}},\"type\":\"histogram\"}],\"scattergl\":[{\"type\":\"scattergl\",\"marker\":{\"colorbar\":{\"outlinewidth\":0,\"ticks\":\"\"}}}],\"scatter3d\":[{\"type\":\"scatter3d\",\"line\":{\"colorbar\":{\"outlinewidth\":0,\"ticks\":\"\"}},\"marker\":{\"colorbar\":{\"outlinewidth\":0,\"ticks\":\"\"}}}],\"scattermapbox\":[{\"type\":\"scattermapbox\",\"marker\":{\"colorbar\":{\"outlinewidth\":0,\"ticks\":\"\"}}}],\"scatterternary\":[{\"type\":\"scatterternary\",\"marker\":{\"colorbar\":{\"outlinewidth\":0,\"ticks\":\"\"}}}],\"scattercarpet\":[{\"type\":\"scattercarpet\",\"marker\":{\"colorbar\":{\"outlinewidth\":0,\"ticks\":\"\"}}}],\"carpet\":[{\"aaxis\":{\"endlinecolor\":\"#2a3f5f\",\"gridcolor\":\"white\",\"linecolor\":\"white\",\"minorgridcolor\":\"white\",\"startlinecolor\":\"#2a3f5f\"},\"baxis\":{\"endlinecolor\":\"#2a3f5f\",\"gridcolor\":\"white\",\"linecolor\":\"white\",\"minorgridcolor\":\"white\",\"startlinecolor\":\"#2a3f5f\"},\"type\":\"carpet\"}],\"table\":[{\"cells\":{\"fill\":{\"color\":\"#EBF0F8\"},\"line\":{\"color\":\"white\"}},\"header\":{\"fill\":{\"color\":\"#C8D4E3\"},\"line\":{\"color\":\"white\"}},\"type\":\"table\"}],\"barpolar\":[{\"marker\":{\"line\":{\"color\":\"#E5ECF6\",\"width\":0.5},\"pattern\":{\"fillmode\":\"overlay\",\"size\":10,\"solidity\":0.2}},\"type\":\"barpolar\"}],\"pie\":[{\"automargin\":true,\"type\":\"pie\"}]},\"layout\":{\"autotypenumbers\":\"strict\",\"colorway\":[\"#636efa\",\"#EF553B\",\"#00cc96\",\"#ab63fa\",\"#FFA15A\",\"#19d3f3\",\"#FF6692\",\"#B6E880\",\"#FF97FF\",\"#FECB52\"],\"font\":{\"color\":\"#2a3f5f\"},\"hovermode\":\"closest\",\"hoverlabel\":{\"align\":\"left\"},\"paper_bgcolor\":\"white\",\"plot_bgcolor\":\"#E5ECF6\",\"polar\":{\"bgcolor\":\"#E5ECF6\",\"angularaxis\":{\"gridcolor\":\"white\",\"linecolor\":\"white\",\"ticks\":\"\"},\"radialaxis\":{\"gridcolor\":\"white\",\"linecolor\":\"white\",\"ticks\":\"\"}},\"ternary\":{\"bgcolor\":\"#E5ECF6\",\"aaxis\":{\"gridcolor\":\"white\",\"linecolor\":\"white\",\"ticks\":\"\"},\"baxis\":{\"gridcolor\":\"white\",\"linecolor\":\"white\",\"ticks\":\"\"},\"caxis\":{\"gridcolor\":\"white\",\"linecolor\":\"white\",\"ticks\":\"\"}},\"coloraxis\":{\"colorbar\":{\"outlinewidth\":0,\"ticks\":\"\"}},\"colorscale\":{\"sequential\":[[0.0,\"#0d0887\"],[0.1111111111111111,\"#46039f\"],[0.2222222222222222,\"#7201a8\"],[0.3333333333333333,\"#9c179e\"],[0.4444444444444444,\"#bd3786\"],[0.5555555555555556,\"#d8576b\"],[0.6666666666666666,\"#ed7953\"],[0.7777777777777778,\"#fb9f3a\"],[0.8888888888888888,\"#fdca26\"],[1.0,\"#f0f921\"]],\"sequentialminus\":[[0.0,\"#0d0887\"],[0.1111111111111111,\"#46039f\"],[0.2222222222222222,\"#7201a8\"],[0.3333333333333333,\"#9c179e\"],[0.4444444444444444,\"#bd3786\"],[0.5555555555555556,\"#d8576b\"],[0.6666666666666666,\"#ed7953\"],[0.7777777777777778,\"#fb9f3a\"],[0.8888888888888888,\"#fdca26\"],[1.0,\"#f0f921\"]],\"diverging\":[[0,\"#8e0152\"],[0.1,\"#c51b7d\"],[0.2,\"#de77ae\"],[0.3,\"#f1b6da\"],[0.4,\"#fde0ef\"],[0.5,\"#f7f7f7\"],[0.6,\"#e6f5d0\"],[0.7,\"#b8e186\"],[0.8,\"#7fbc41\"],[0.9,\"#4d9221\"],[1,\"#276419\"]]},\"xaxis\":{\"gridcolor\":\"white\",\"linecolor\":\"white\",\"ticks\":\"\",\"title\":{\"standoff\":15},\"zerolinecolor\":\"white\",\"automargin\":true,\"zerolinewidth\":2},\"yaxis\":{\"gridcolor\":\"white\",\"linecolor\":\"white\",\"ticks\":\"\",\"title\":{\"standoff\":15},\"zerolinecolor\":\"white\",\"automargin\":true,\"zerolinewidth\":2},\"scene\":{\"xaxis\":{\"backgroundcolor\":\"#E5ECF6\",\"gridcolor\":\"white\",\"linecolor\":\"white\",\"showbackground\":true,\"ticks\":\"\",\"zerolinecolor\":\"white\",\"gridwidth\":2},\"yaxis\":{\"backgroundcolor\":\"#E5ECF6\",\"gridcolor\":\"white\",\"linecolor\":\"white\",\"showbackground\":true,\"ticks\":\"\",\"zerolinecolor\":\"white\",\"gridwidth\":2},\"zaxis\":{\"backgroundcolor\":\"#E5ECF6\",\"gridcolor\":\"white\",\"linecolor\":\"white\",\"showbackground\":true,\"ticks\":\"\",\"zerolinecolor\":\"white\",\"gridwidth\":2}},\"shapedefaults\":{\"line\":{\"color\":\"#2a3f5f\"}},\"annotationdefaults\":{\"arrowcolor\":\"#2a3f5f\",\"arrowhead\":0,\"arrowwidth\":1},\"geo\":{\"bgcolor\":\"white\",\"landcolor\":\"#E5ECF6\",\"subunitcolor\":\"white\",\"showland\":true,\"showlakes\":true,\"lakecolor\":\"white\"},\"title\":{\"x\":0.05},\"mapbox\":{\"style\":\"light\"}}},\"xaxis\":{\"anchor\":\"y\",\"domain\":[0.0,1.0],\"title\":{\"text\":\"Category\",\"font\":{\"size\":12}}},\"yaxis\":{\"anchor\":\"x\",\"domain\":[0.0,1.0],\"title\":{\"text\":\"Count\",\"font\":{\"size\":12}}},\"legend\":{\"title\":{\"text\":\"color\"},\"tracegroupgap\":0},\"title\":{\"text\":\"Top Categories on Play Store\",\"font\":{\"size\":16}},\"barmode\":\"relative\",\"height\":300,\"width\":400,\"font\":{\"color\":\"white\"},\"margin\":{\"l\":10,\"r\":10,\"t\":30,\"b\":10},\"plot_bgcolor\":\"black\",\"paper_bgcolor\":\"black\"},                        {\"responsive\": true}                    ).then(function(){\n",
              "                            \n",
              "var gd = document.getElementById('c3413497-8118-44f5-8d4a-29f5f5095a4f');\n",
              "var x = new MutationObserver(function (mutations, observer) {{\n",
              "        var display = window.getComputedStyle(gd).display;\n",
              "        if (!display || display === 'none') {{\n",
              "            console.log([gd, 'removed!']);\n",
              "            Plotly.purge(gd);\n",
              "            observer.disconnect();\n",
              "        }}\n",
              "}});\n",
              "\n",
              "// Listen for the removal of the full notebook cells\n",
              "var notebookContainer = gd.closest('#notebook-container');\n",
              "if (notebookContainer) {{\n",
              "    x.observe(notebookContainer, {childList: true});\n",
              "}}\n",
              "\n",
              "// Listen for the clearing of the current output cell\n",
              "var outputEl = gd.closest('.output');\n",
              "if (outputEl) {{\n",
              "    x.observe(outputEl, {childList: true});\n",
              "}}\n",
              "\n",
              "                        })                };                            </script>        </div>\n",
              "</body>\n",
              "</html>"
            ]
          },
          "metadata": {}
        }
      ]
    },
    {
      "cell_type": "code",
      "source": [
        "type_counts = apps_df['Type'].value_counts()\n",
        "fig2 = px.pie(\n",
        "    values=type_counts.values,\n",
        "    names=type_counts.index,\n",
        "    title='App Type Distribution',\n",
        "    color_discrete_sequence=px.colors.sequential.RdBu,\n",
        "    width=plot_width,\n",
        "    height=plot_height\n",
        ")\n",
        "fig2.update_traces(textposition='inside', textinfo='percent+label')\n",
        "fig2.update_layout(\n",
        "    plot_bgcolor=plot_bg_color,\n",
        "    paper_bgcolor=plot_bg_color,\n",
        "    font_color=text_color,\n",
        "    title_font=title_font,\n",
        "    margin=dict(l=10, r=10, t=30, b=10)\n",
        ")\n",
        "save_plot_as_html(fig2, 'app_type_distribution.html', 'This plot shows the distribution of app types.')\n",
        "\n",
        "\n",
        "\n",
        "\n"
      ],
      "metadata": {
        "id": "aQMAtx4JiMeQ"
      },
      "execution_count": 30,
      "outputs": []
    },
    {
      "cell_type": "code",
      "source": [
        "fig3 = px.histogram(\n",
        "    apps_df,\n",
        "    x='Rating',\n",
        "    nbins=20,\n",
        "    title='Rating Distribution',\n",
        "    color_discrete_sequence=['#636EFA'],\n",
        "    width=plot_width,\n",
        "    height=plot_height\n",
        ")\n",
        "fig3.update_layout(\n",
        "    plot_bgcolor=plot_bg_color,\n",
        "    paper_bgcolor=plot_bg_color,\n",
        "    font_color=text_color,\n",
        "    title_font=title_font,\n",
        "    xaxis=dict(title_font=axis_font),\n",
        "    yaxis=dict(title_font=axis_font),\n",
        "    margin=dict(l=10, r=10, t=30, b=10)\n",
        ")\n",
        "save_plot_as_html(fig3, \"rating_distribution.html\", \"Ratings are skewed towards higher values, suggesting that most apps are rated favorably by users.\")"
      ],
      "metadata": {
        "id": "7TthS8H6ibA5"
      },
      "execution_count": 31,
      "outputs": []
    },
    {
      "cell_type": "code",
      "source": [
        "sentiment_counts = reviews_df['Sentiment_Score'].value_counts()\n",
        "fig4 = px.bar(\n",
        "    x=sentiment_counts.index,\n",
        "    y=sentiment_counts.values,\n",
        "    labels={'x': 'Sentiment Score', 'y': 'Count'},\n",
        "    title='Sentiment Distribution',\n",
        "    color=sentiment_counts.index,\n",
        "    color_discrete_sequence=px.colors.sequential.RdPu,\n",
        "    width=plot_width,\n",
        "    height=plot_height\n",
        ")\n",
        "fig4.update_layout(\n",
        "    plot_bgcolor=plot_bg_color,\n",
        "    paper_bgcolor=plot_bg_color,\n",
        "    font_color=text_color,\n",
        "    title_font=title_font,\n",
        "    xaxis=dict(title_font=axis_font),\n",
        "    yaxis=dict(title_font=axis_font),\n",
        "    margin=dict(l=10, r=10, t=30, b=10)\n",
        ")\n",
        "fig4.update_traces(marker=dict(line=dict(color=text_color, width=1)))\n",
        "save_plot_as_html(fig4, \"sentiment_distribution.html\", \"Sentiments in reviews show a mix of positive and negative feedback, with a slight lean towards positive sentiments.\")"
      ],
      "metadata": {
        "id": "of-IC03VjR3S"
      },
      "execution_count": 32,
      "outputs": []
    },
    {
      "cell_type": "code",
      "source": [
        "installs_by_category = apps_df.groupby('Category')['Installs'].sum().nlargest(10)\n",
        "fig5 = px.bar(\n",
        "    x=installs_by_category.values,\n",
        "    y=installs_by_category.index,\n",
        "    orientation='h',\n",
        "    labels={'x': 'Installs', 'y': 'Category'},\n",
        "    title='Installs by Category',\n",
        "    color=installs_by_category.index,\n",
        "    color_discrete_sequence=px.colors.sequential.Blues,\n",
        "    width=plot_width,\n",
        "    height=plot_height\n",
        ")\n",
        "fig5.update_layout(\n",
        "    plot_bgcolor=plot_bg_color,\n",
        "    paper_bgcolor=plot_bg_color,\n",
        "    font_color=text_color,\n",
        "    title_font=title_font,\n",
        "    xaxis=dict(title_font=axis_font),\n",
        "    yaxis=dict(title_font=axis_font),\n",
        "    margin=dict(l=10, r=10, t=30, b=10)\n",
        ")\n",
        "fig5.update_traces(marker=dict(line=dict(color=text_color, width=1)))\n",
        "save_plot_as_html(fig5, \"installs_by_category.html\", \"The categories with the most installs are social and communication apps, which reflects their broad appeal and daily usage.\")"
      ],
      "metadata": {
        "id": "bWZu_H3ajgEq"
      },
      "execution_count": 33,
      "outputs": []
    },
    {
      "cell_type": "code",
      "source": [
        "apps_df['Last Updated'] = pd.to_datetime(apps_df['Last Updated']) # Convert 'Last Updated' to datetime\n",
        "updates_per_year = apps_df['Last Updated'].dt.year.value_counts().sort_index()\n",
        "fig6 = px.line(\n",
        "    x=updates_per_year.index,\n",
        "    y=updates_per_year.values,\n",
        "    labels={'x': 'Year', 'y': 'Number of Updates'},\n",
        "    title='Number of Updates Over the Years',\n",
        "    color_discrete_sequence=['#AB63FA'],\n",
        "    width=plot_width,\n",
        "    height=plot_height\n",
        ")\n",
        "fig6.update_layout(\n",
        "    plot_bgcolor=plot_bg_color,\n",
        "    paper_bgcolor=plot_bg_color,\n",
        "    font_color=text_color,\n",
        "    title_font=title_font,\n",
        "    xaxis=dict(title_font=axis_font),\n",
        "    yaxis=dict(title_font=axis_font),\n",
        "    margin=dict(l=10, r=10, t=30, b=10)\n",
        ")\n",
        "save_plot_as_html(fig6, \"updates_per_year.html\", \"Updates have been increasing over the years, showing that developers are actively maintaining and improving their apps.\")\n",
        "\n"
      ],
      "metadata": {
        "id": "qHmg6w4BkPg6"
      },
      "execution_count": 38,
      "outputs": []
    },
    {
      "cell_type": "code",
      "source": [
        "revenue_by_category = apps_df.groupby('Category')['Revenue'].sum().nlargest(10)\n",
        "fig7 = px.bar(\n",
        "    x=revenue_by_category.index,\n",
        "    y=revenue_by_category.values,\n",
        "    labels={'x': 'Category', 'y': 'Revenue'},\n",
        "    title='Revenue by Category',\n",
        "    color=revenue_by_category.index,\n",
        "    color_discrete_sequence=px.colors.sequential.Greens,\n",
        "    width=plot_width,\n",
        "    height=plot_height\n",
        ")\n",
        "fig7.update_layout(\n",
        "    plot_bgcolor=plot_bg_color,\n",
        "    paper_bgcolor=plot_bg_color,\n",
        "    font_color=text_color,\n",
        "    title_font=title_font,\n",
        "    xaxis=dict(title_font=axis_font),\n",
        "    yaxis=dict(title_font=axis_font),\n",
        "    margin=dict(l=10, r=10, t=30, b=10)\n",
        ")\n",
        "fig7.update_traces(marker=dict(line=dict(color=text_color, width=1)))\n",
        "save_plot_as_html(fig7, \"revenue_by_category.html\", \"Categories such as Business and Productivity lead in revenue generation, indicating their monetization potential.\")\n"
      ],
      "metadata": {
        "id": "GfKxXy16kmdB"
      },
      "execution_count": 40,
      "outputs": []
    },
    {
      "cell_type": "code",
      "source": [
        "genre_counts = apps_df['Genres'].str.split(';', expand=True).stack().value_counts().nlargest(10)\n",
        "fig8 = px.bar(\n",
        "    x=genre_counts.index,\n",
        "    y=genre_counts.values,\n",
        "    labels={'x': 'Genre', 'y': 'Count'},\n",
        "    title='Top Genres',\n",
        "    color=genre_counts.index,\n",
        "    color_discrete_sequence=px.colors.sequential.OrRd,\n",
        "    width=plot_width,\n",
        "    height=plot_height\n",
        ")\n",
        "fig8.update_layout(\n",
        "    plot_bgcolor=plot_bg_color,\n",
        "    paper_bgcolor=plot_bg_color,\n",
        "    font_color=text_color,\n",
        "    title_font=title_font,\n",
        "    xaxis=dict(title_font=axis_font),\n",
        "    yaxis=dict(title_font=axis_font),\n",
        "    margin=dict(l=10, r=10, t=30, b=10)\n",
        ")\n",
        "fig8.update_traces(marker=dict(line=dict(color=text_color, width=1)))\n",
        "save_plot_as_html(fig8, \"genres_counts.html\", \"Action and Casual genres are the most common, reflecting users' preference for engaging and easy-to-play games.\")"
      ],
      "metadata": {
        "id": "-uvdl6lqk4BJ"
      },
      "execution_count": 41,
      "outputs": []
    },
    {
      "cell_type": "code",
      "source": [
        "fig9 = px.scatter(\n",
        "    apps_df,\n",
        "    x='Last Updated',\n",
        "    y='Rating',\n",
        "    color='Type',\n",
        "    title='Impact of Last Update on Rating',\n",
        "    color_discrete_sequence=px.colors.qualitative.Vivid,\n",
        "    width=plot_width,\n",
        "    height=plot_height\n",
        ")\n",
        "fig9.update_layout(\n",
        "    plot_bgcolor=plot_bg_color,\n",
        "    paper_bgcolor=plot_bg_color,\n",
        "    font_color=text_color,\n",
        "    title_font=title_font,\n",
        "    xaxis=dict(title_font=axis_font),\n",
        "    yaxis=dict(title_font=axis_font),\n",
        "    margin=dict(l=10, r=10, t=30, b=10)\n",
        ")\n",
        "save_plot_as_html(fig9, \"update_on_rating.html\", \"The scatter plot shows a weak correlation between the last update date and ratings, suggesting that more frequent updates don't always result in better ratings.\")"
      ],
      "metadata": {
        "id": "yqQ0jYMBlEYR"
      },
      "execution_count": 42,
      "outputs": []
    },
    {
      "cell_type": "code",
      "source": [
        "fig10 = px.box(\n",
        "    apps_df,\n",
        "    x='Type',\n",
        "    y='Rating',\n",
        "    color='Type',\n",
        "    title='Ratings for Paid vs Free Apps',\n",
        "    color_discrete_sequence=px.colors.qualitative.Pastel,\n",
        "    width=plot_width,\n",
        "    height=plot_height\n",
        ")\n",
        "fig10.update_layout(\n",
        "    plot_bgcolor=plot_bg_color,\n",
        "    paper_bgcolor=plot_bg_color,\n",
        "    font_color=text_color,\n",
        "    title_font=title_font,\n",
        "    xaxis=dict(title_font=axis_font),\n",
        "    yaxis=dict(title_font=axis_font),\n",
        "    margin=dict(l=10, r=10, t=30, b=10)\n",
        ")\n",
        "save_plot_as_html(fig10, \"ratings_paid_free.html\", \"Paid apps generally have higher ratings compared to free apps, suggesting that users expect higher quality from apps they pay for.\")"
      ],
      "metadata": {
        "id": "HyBUFGaflNSp"
      },
      "execution_count": 43,
      "outputs": []
    },
    {
      "cell_type": "code",
      "source": [
        "plot_containers_split = plot_containers.split('</div>')\n",
        "if len(plot_containers_split) > 1:\n",
        "  plot_containers_split = plot_containers.split('</div>')\n",
        "\n",
        "if len(plot_containers_split) > 1:\n",
        "    final_plot = plot_containers_split[-2] + '</div>'\n",
        "else:\n",
        "    final_plot = plot_containers"
      ],
      "metadata": {
        "id": "ra87ndFglW_8"
      },
      "execution_count": 46,
      "outputs": []
    },
    {
      "cell_type": "code",
      "source": [
        "dashboard_html = \"\"\"\n",
        "<!DOCTYPE html>\n",
        "<html lang=\"en\">\n",
        "<head>\n",
        "    <meta charset=\"UTF-8\">\n",
        "    <meta name=\"viewport\" content=\"width=device-width, initial-scale=1.0\">\n",
        "    <title>Google Play Store Reviews Analytics</title>\n",
        "    <style>\n",
        "        body {{\n",
        "            font-family: Arial, sans-serif;\n",
        "            background-color: #333;\n",
        "            color: #fff;\n",
        "            margin: 0;\n",
        "            padding: 0;\n",
        "        }}\n",
        "        .header {{\n",
        "            display: flex;\n",
        "            align-items: center;\n",
        "            justify-content: center;\n",
        "            padding: 20px;\n",
        "            background-color: #444;\n",
        "        }}\n",
        "        .header img {{\n",
        "            margin: 0 10px;\n",
        "            height: 50px;\n",
        "        }}\n",
        "        .container {{\n",
        "            display: flex;\n",
        "            flex-wrap: wrap;\n",
        "            justify-content: center;\n",
        "            padding: 20px;\n",
        "        }}\n",
        "        .plot-container {{\n",
        "            border: 2px solid #555;\n",
        "            margin: 10px;\n",
        "            padding: 10px;\n",
        "            width: {plot_width}px;\n",
        "            height: {plot_height}px;\n",
        "            overflow: hidden;\n",
        "            position: relative;\n",
        "            cursor: pointer;\n",
        "        }}\n",
        "        .insights {{\n",
        "            display: none;\n",
        "            position: absolute;\n",
        "            right: 10px;\n",
        "            top: 10px;\n",
        "            background-color: rgba(0, 0, 0, 0.7);\n",
        "            padding: 5px;\n",
        "            border-radius: 5px;\n",
        "            color: #fff;\n",
        "        }}\n",
        "        .plot-container:hover .insights {{\n",
        "            display: block;\n",
        "        }}\n",
        "    </style>\n",
        "    <script>\n",
        "        function openPlot(filename) {{\n",
        "            window.open(filename, '_blank');\n",
        "        }}\n",
        "    </script>\n",
        "</head>\n",
        "<body>\n",
        "    <div class=\"header\">\n",
        "        <img src=\"https://upload.wikimedia.org/wikipedia/commons/thumb/4/4a/Logo_2013_Google.png/800px-Logo_2013_Google.png\" alt=\"Google Logo\">\n",
        "        <h1>Google Play Store Reviews Analytics</h1>\n",
        "        <img src=\"https://upload.wikimedia.org/wikipedia/commons/thumb/7/78/Google_Play_Store_badge_EN.svg/1024px-Google_Play_Store_badge_EN.svg.png\" alt=\"Google Play Store Logo\">\n",
        "    </div>\n",
        "    <div class=\"container\">\n",
        "        {plots}\n",
        "    </div>\n",
        "</body>\n",
        "</html>\n",
        "\"\"\""
      ],
      "metadata": {
        "id": "rpWqc_gKlhGR"
      },
      "execution_count": 47,
      "outputs": []
    },
    {
      "cell_type": "code",
      "source": [
        "final_html = dashboard_html.format(plots=plot_containers, plot_width=plot_width, plot_height=plot_height)\n",
        "\n",
        "# Save the final dashboard to an HTML file\n",
        "dashboard_path = os.path.join(html_files_path, \"dashboard.html\")\n",
        "with open(dashboard_path, \"w\", encoding=\"utf-8\") as f:\n",
        "    f.write(final_html)\n",
        "\n",
        "# Automatically open the generated HTML file in a web browser\n",
        "webbrowser.open('file://' + os.path.realpath(dashboard_path))"
      ],
      "metadata": {
        "colab": {
          "base_uri": "https://localhost:8080/"
        },
        "id": "5EfceRvslyjh",
        "outputId": "ca2020c6-6736-4804-bcb7-01c232e6c7e2"
      },
      "execution_count": 48,
      "outputs": [
        {
          "output_type": "execute_result",
          "data": {
            "text/plain": [
              "False"
            ]
          },
          "metadata": {},
          "execution_count": 48
        }
      ]
    },
    {
      "cell_type": "code",
      "source": [],
      "metadata": {
        "id": "kgJIi61_l7gR"
      },
      "execution_count": null,
      "outputs": []
    }
  ]
}